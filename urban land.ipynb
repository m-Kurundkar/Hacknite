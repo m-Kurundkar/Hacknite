{
 "cells": [
  {
   "cell_type": "code",
   "execution_count": 1,
   "id": "d63c5bd7-a1c8-4484-9255-5ae219ed2b37",
   "metadata": {},
   "outputs": [
    {
     "name": "stdout",
     "output_type": "stream",
     "text": [
      "{'version': 0.6, 'generator': 'Overpass API 0.7.62.5 1bd436f1', 'osm3s': {'timestamp_osm_base': '2025-03-29T10:48:16Z', 'copyright': 'The data included in this document is from www.openstreetmap.org. The data is made available under ODbL.'}, 'elements': [{'type': 'way', 'id': 575213527, 'nodes': [5519996274, 5519996275, 5519996276, 5519996277, 5519996278, 5519996279, 9368527083, 5519996280, 2242624721, 5519996282, 5519996283, 5519996284, 5519996285, 5519996286, 5519996287, 9368823842, 5519996288, 5519996289, 5519996274], 'tags': {'addr:city': 'New York', 'addr:housename': 'New York City Hall', 'addr:housenumber': '260', 'addr:postcode': '10000', 'addr:state': 'NY', 'addr:street': 'Broadway', 'amenity': 'townhall', 'architect': 'Joseph Francois Mangin and John McComb, Jr.', 'building': 'public', 'building:levels': '4', 'building:part': 'yes', 'height': '36.6', 'level': '2', 'name': 'New York City Hall', 'name:el': 'Δημαρχείο Νέας Υόρκης', 'name:hi': 'न्यूयॉर्क सिटी हॉल', 'name:hr': 'Gradska vijećnica New Yorka', 'nycdoitt:bin': '1079147', 'operator': 'New York City Department of Citywide Administrative Services', 'phone': '+1 212 639 9675', 'smoking': 'no', 'start_date': '1812', 'townhall:type': 'city', 'website': 'https://www1.nyc.gov/site/dcas/business/dcasmanagedbuildings/city-hall.page', 'wheelchair': 'yes', 'wikidata': 'Q1065206', 'wikipedia': 'en:New York City Hall'}}, {'type': 'way', 'id': 575213948, 'nodes': [5520006583, 5520006584, 5520006585, 5520006586, 5520006587, 9373577343, 9373577358, 5520006588, 5520006589, 9373577300, 5520006590, 5520006591, 5520006592, 9373577284, 9373577277, 5520006593, 9369042345, 9373577262, 5520006594, 9373577240, 5520006612, 9373577242, 5520006595, 9373577252, 9369042352, 5520006596, 9373577278, 9373577301, 5520006597, 5520006598, 5520006599, 5520006600, 5520006601, 9373577319, 9368823891, 9373577321, 5520006603, 5520006604, 9368823867, 5520006605, 5520006606, 5520006607, 5520006608, 5520006609, 9373577336, 9373577339, 9373577357, 5520006610, 5520006611, 5520006583], 'tags': {'addr:city': 'New York', 'addr:housenumber': '52', 'addr:postcode': '10007', 'addr:state': 'NY', 'addr:street': 'Chambers Street', 'air_conditioning': 'yes', 'alt_name': 'Old New York County Courthouse', 'building': 'yes', 'building:colour': '#F4ECBB', 'government': 'education', 'height': '25', 'name': 'Tweed Courthouse', 'name:en': 'Tweed Courthouse', 'nycdoitt:bin': '1079146', 'office': 'government', 'polling_station': 'yes', 'roof:colour': 'light_gray', 'smoking': 'no', 'start_date': '1881', 'website': 'https://www1.nyc.gov/site/dcas/business/dcasmanagedbuildings/tweed-courthouse.page', 'wheelchair': 'yes', 'wikidata': 'Q1105773', 'wikipedia': 'en:Tweed Courthouse'}}, {'type': 'way', 'id': 1015701572, 'nodes': [9368824095, 9368824096, 9368824097, 9368824098, 9368824095], 'tags': {'building': 'yes', 'height': '3'}}]}\n"
     ]
    }
   ],
   "source": [
    "import requests\n",
    "\n",
    "lat, lon = 40.7128, -74.0060  # Example: New York City coordinates\n",
    "\n",
    "query = f\"\"\"\n",
    "[out:json];\n",
    "(\n",
    "  node(around:50,{lat},{lon})[\"building\"];\n",
    "  way(around:50,{lat},{lon})[\"building\"];\n",
    ");\n",
    "out body;\n",
    "\"\"\"\n",
    "\n",
    "url = \"http://overpass-api.de/api/interpreter\"\n",
    "response = requests.get(url, params={\"data\": query})\n",
    "\n",
    "data = response.json()\n",
    "print(data)  # Returns building information around the coordinates\n"
   ]
  },
  {
   "cell_type": "code",
   "execution_count": 6,
   "id": "8f74d509-1818-43e0-b64b-31d82c3be369",
   "metadata": {},
   "outputs": [
    {
     "name": "stdout",
     "output_type": "stream",
     "text": [
      "Building Found\n"
     ]
    }
   ],
   "source": [
    "import requests\n",
    "\n",
    "def get_land_use(lat, lon):\n",
    "    query = f\"\"\"\n",
    "    [out:json];\n",
    "    (\n",
    "      node(around:50,{lat},{lon})[\"building\"];\n",
    "      way(around:50,{lat},{lon})[\"highway\"];\n",
    "      way(around:50,{lat},{lon})[\"landuse\"];\n",
    "      way(around:50,{lat},{lon})[\"natural\"];\n",
    "      \n",
    "    );\n",
    "    out body;\n",
    "    \"\"\"\n",
    "    \n",
    "    url = \"http://overpass-api.de/api/interpreter\"\n",
    "    response = requests.get(url, params={\"data\": query})\n",
    "    \n",
    "    if response.status_code == 200:\n",
    "        data = response.json()\n",
    "        if data[\"elements\"]:\n",
    "            return \"Building Found\"\n",
    "        else:\n",
    "            return \"No Building Here\"\n",
    "    else:\n",
    "        return \"Error Fetching Data\"\n",
    "\n",
    "# Example: Get land use info for a location\n",
    "lat, lon = 28.6139, 77.2090  # Example: Delhi, India\n",
    "print(get_land_use(lat, lon))\n"
   ]
  },
  {
   "cell_type": "code",
   "execution_count": 11,
   "id": "7e0252ed-2a2b-44da-a67d-255525b6e233",
   "metadata": {},
   "outputs": [
    {
     "name": "stdout",
     "output_type": "stream",
     "text": [
      "Land Use at (28.616355680702913, 77.21516220278437): Building, Road\n"
     ]
    }
   ],
   "source": [
    "import requests\n",
    "\n",
    "# Function to fetch land use data from OpenStreetMap\n",
    "def get_osm_data(lat, lon):\n",
    "    query = f\"\"\"\n",
    "    [out:json];\n",
    "    (\n",
    "      node(around:50,{lat},{lon})[\"building\"];\n",
    "      way(around:50,{lat},{lon})[\"building\"];\n",
    "      way(around:50,{lat},{lon})[\"highway\"];\n",
    "      way(around:50,{lat},{lon})[\"landuse\"];\n",
    "      way(around:50,{lat},{lon})[\"natural\"];\n",
    "    );\n",
    "    out body;\n",
    "    \"\"\"\n",
    "    \n",
    "    url = \"http://overpass-api.de/api/interpreter\"\n",
    "    response = requests.get(url, params={\"data\": query})\n",
    "    \n",
    "    if response.status_code == 200:\n",
    "        return response.json()\n",
    "    else:\n",
    "        return None\n",
    "\n",
    "# Function to categorize land use based on OSM tags\n",
    "def categorize_land_use(data):\n",
    "    categories = {\n",
    "        \"building\": \"Building\",\n",
    "        \"highway\": \"Road\",\n",
    "        \"landuse\": {\n",
    "            \"residential\": \"Residential Area\",\n",
    "            \"commercial\": \"Commercial Area\",\n",
    "            \"industrial\": \"Industrial Zone\",\n",
    "            \"retail\": \"Shopping Area\",\n",
    "            \"forest\": \"Forest\",\n",
    "            \"farmland\": \"Farmland\",\n",
    "            \"grass\": \"Grassland\",\n",
    "            \"park\": \"Park\"\n",
    "        },\n",
    "        \"natural\": {\n",
    "            \"water\": \"Water Body\",\n",
    "            \"forest\": \"Forest\",\n",
    "            \"wood\": \"Wooded Area\"\n",
    "        }\n",
    "    }\n",
    "\n",
    "    land_types = set()  # To avoid duplicate results\n",
    "    if data and \"elements\" in data:\n",
    "        for element in data[\"elements\"]:\n",
    "            tags = element.get(\"tags\", {})\n",
    "            for tag, value in tags.items():\n",
    "                if tag in categories:\n",
    "                    if isinstance(categories[tag], dict):  # Handle nested categories\n",
    "                        land_types.add(categories[tag].get(value, value))\n",
    "                    else:\n",
    "                        land_types.add(categories[tag])\n",
    "\n",
    "    return land_types if land_types else {\"Unknown Land Use\"}\n",
    "\n",
    "# Main function to get land\n",
    "def get_land_type(lat, lon):\n",
    "    data = get_osm_data(lat, lon)\n",
    "    land_types = categorize_land_use(data)\n",
    "    return land_types\n",
    "\n",
    "# Example: Check land use at a given location\n",
    "lat, lon = 28.616355680702913, 77.21516220278437  # Example: Delhi, India\n",
    "result = get_land_type(lat, lon)\n",
    "print(f\"Land Use at ({lat}, {lon}): {', '.join(result)}\")"
   ]
  },
  {
   "cell_type": "code",
   "execution_count": null,
   "id": "e811e0fd-584c-43a0-99be-df332c9ca913",
   "metadata": {},
   "outputs": [],
   "source": []
  }
 ],
 "metadata": {
  "kernelspec": {
   "display_name": "Python (myenv)",
   "language": "python",
   "name": "myenv"
  },
  "language_info": {
   "codemirror_mode": {
    "name": "ipython",
    "version": 3
   },
   "file_extension": ".py",
   "mimetype": "text/x-python",
   "name": "python",
   "nbconvert_exporter": "python",
   "pygments_lexer": "ipython3",
   "version": "3.13.2"
  }
 },
 "nbformat": 4,
 "nbformat_minor": 5
}
