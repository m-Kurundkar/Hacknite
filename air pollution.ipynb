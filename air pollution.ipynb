{
 "cells": [
  {
   "cell_type": "code",
   "execution_count": 1,
   "id": "aede935e-ce36-4271-9920-aaf905d49884",
   "metadata": {},
   "outputs": [
    {
     "name": "stdout",
     "output_type": "stream",
     "text": [
      "                City        Date  PM2.5   PM10     NO    NO2    NOx    NH3  \\\n",
      "0          Ahmedabad  2015-01-01    NaN    NaN   0.92  18.22  17.15    NaN   \n",
      "1          Ahmedabad  2015-01-02    NaN    NaN   0.97  15.69  16.46    NaN   \n",
      "2          Ahmedabad  2015-01-03    NaN    NaN  17.40  19.30  29.70    NaN   \n",
      "3          Ahmedabad  2015-01-04    NaN    NaN   1.70  18.48  17.97    NaN   \n",
      "4          Ahmedabad  2015-01-05    NaN    NaN  22.10  21.42  37.76    NaN   \n",
      "...              ...         ...    ...    ...    ...    ...    ...    ...   \n",
      "29526  Visakhapatnam  2020-06-27  15.02  50.94   7.68  25.06  19.54  12.47   \n",
      "29527  Visakhapatnam  2020-06-28  24.38  74.09   3.42  26.06  16.53  11.99   \n",
      "29528  Visakhapatnam  2020-06-29  22.91  65.73   3.45  29.53  18.33  10.71   \n",
      "29529  Visakhapatnam  2020-06-30  16.64  49.97   4.05  29.26  18.80  10.03   \n",
      "29530  Visakhapatnam  2020-07-01  15.00  66.00   0.40  26.85  14.05   5.20   \n",
      "\n",
      "          CO    SO2      O3  Benzene  Toluene  Xylene   AQI    AQI_Bucket  \n",
      "0       0.92  27.64  133.36     0.00     0.02    0.00   NaN           NaN  \n",
      "1       0.97  24.55   34.06     3.68     5.50    3.77   NaN           NaN  \n",
      "2      17.40  29.07   30.70     6.80    16.40    2.25   NaN           NaN  \n",
      "3       1.70  18.59   36.08     4.43    10.14    1.00   NaN           NaN  \n",
      "4      22.10  39.33   39.31     7.01    18.89    2.78   NaN           NaN  \n",
      "...      ...    ...     ...      ...      ...     ...   ...           ...  \n",
      "29526   0.47   8.55   23.30     2.24    12.07    0.73  41.0          Good  \n",
      "29527   0.52  12.72   30.14     0.74     2.21    0.38  70.0  Satisfactory  \n",
      "29528   0.48   8.42   30.96     0.01     0.01    0.00  68.0  Satisfactory  \n",
      "29529   0.52   9.84   28.30     0.00     0.00    0.00  54.0  Satisfactory  \n",
      "29530   0.59   2.10   17.05      NaN      NaN     NaN  50.0          Good  \n",
      "\n",
      "[29531 rows x 16 columns]\n"
     ]
    }
   ],
   "source": [
    "import pandas as pd\n",
    "df_city_day= pd.read_csv(\"city_day.csv\")\n",
    "print(df_city_day)"
   ]
  },
  {
   "cell_type": "code",
   "execution_count": 2,
   "id": "64c1199e-db05-4de0-9b0b-c190b7655607",
   "metadata": {},
   "outputs": [
    {
     "name": "stdout",
     "output_type": "stream",
     "text": [
      "                 City             Datetime  PM2.5   PM10    NO    NO2    NOx  \\\n",
      "0           Ahmedabad  2015-01-01 01:00:00    NaN    NaN  1.00  40.01  36.37   \n",
      "1           Ahmedabad  2015-01-01 02:00:00    NaN    NaN  0.02  27.75  19.73   \n",
      "2           Ahmedabad  2015-01-01 03:00:00    NaN    NaN  0.08  19.32  11.08   \n",
      "3           Ahmedabad  2015-01-01 04:00:00    NaN    NaN  0.30  16.45   9.20   \n",
      "4           Ahmedabad  2015-01-01 05:00:00    NaN    NaN  0.12  14.90   7.85   \n",
      "...               ...                  ...    ...    ...   ...    ...    ...   \n",
      "707870  Visakhapatnam  2020-06-30 20:00:00   9.50  36.00  2.75  25.57  15.85   \n",
      "707871  Visakhapatnam  2020-06-30 21:00:00  17.25  49.25  3.62  33.20  20.62   \n",
      "707872  Visakhapatnam  2020-06-30 22:00:00  36.00  71.00  2.20  30.80  18.20   \n",
      "707873  Visakhapatnam  2020-06-30 23:00:00  15.75  63.00  1.02  28.90  16.00   \n",
      "707874  Visakhapatnam  2020-07-01 00:00:00  15.00  66.00  0.40  26.85  14.05   \n",
      "\n",
      "         NH3    CO     SO2      O3  Benzene  Toluene  Xylene   AQI  \\\n",
      "0        NaN  1.00  122.07     NaN      0.0      0.0     0.0   NaN   \n",
      "1        NaN  0.02   85.90     NaN      0.0      0.0     0.0   NaN   \n",
      "2        NaN  0.08   52.83     NaN      0.0      0.0     0.0   NaN   \n",
      "3        NaN  0.30   39.53  153.58      0.0      0.0     0.0   NaN   \n",
      "4        NaN  0.12   32.63     NaN      0.0      0.0     0.0   NaN   \n",
      "...      ...   ...     ...     ...      ...      ...     ...   ...   \n",
      "707870  4.57  0.62     NaN   27.75      NaN      NaN     NaN  51.0   \n",
      "707871  3.78  0.76    2.02   25.58      NaN      NaN     NaN  51.0   \n",
      "707872  3.67  0.58    1.77   26.15      NaN      NaN     NaN  50.0   \n",
      "707873  3.80  0.49    0.75   15.82      NaN      NaN     NaN  50.0   \n",
      "707874  5.20  0.59    2.10   17.05      NaN      NaN     NaN  50.0   \n",
      "\n",
      "          AQI_Bucket  \n",
      "0                NaN  \n",
      "1                NaN  \n",
      "2                NaN  \n",
      "3                NaN  \n",
      "4                NaN  \n",
      "...              ...  \n",
      "707870  Satisfactory  \n",
      "707871  Satisfactory  \n",
      "707872          Good  \n",
      "707873          Good  \n",
      "707874          Good  \n",
      "\n",
      "[707875 rows x 16 columns]\n"
     ]
    }
   ],
   "source": [
    "df_city_hour= pd.read_csv(\"city_hour.csv\")\n",
    "print(df_city_hour)"
   ]
  },
  {
   "cell_type": "code",
   "execution_count": 15,
   "id": "583ea608-ea41-4a8a-9779-ea064dd915c3",
   "metadata": {},
   "outputs": [
    {
     "name": "stdout",
     "output_type": "stream",
     "text": [
      "0            Ahmedabad\n",
      "1            Ahmedabad\n",
      "2            Ahmedabad\n",
      "3            Ahmedabad\n",
      "4            Ahmedabad\n",
      "             ...      \n",
      "29526    Visakhapatnam\n",
      "29527    Visakhapatnam\n",
      "29528    Visakhapatnam\n",
      "29529    Visakhapatnam\n",
      "29530    Visakhapatnam\n",
      "Name: City, Length: 29531, dtype: object 0                 NaN\n",
      "1                 NaN\n",
      "2                 NaN\n",
      "3                 NaN\n",
      "4                 NaN\n",
      "             ...     \n",
      "29526            Good\n",
      "29527    Satisfactory\n",
      "29528    Satisfactory\n",
      "29529    Satisfactory\n",
      "29530            Good\n",
      "Name: AQI_Bucket, Length: 29531, dtype: object\n"
     ]
    }
   ],
   "source": [
    "'''city_day= df_city_day.loc[df_city_day['City']&df_city_day['AQI_Bucket']]\n",
    "city_hr= df_city_hour['City', 'AQI_Bucket']\n",
    "final_df= city_day.merge[city_hr]\n",
    "print(final_df)'''\n",
    "print(df_city_day['City'], df_city_day['AQI_Bucket'])"
   ]
  },
  {
   "cell_type": "code",
   "execution_count": 3,
   "id": "2727a3f1-0df0-43e9-b0c0-fa3677a5ff3e",
   "metadata": {},
   "outputs": [
    {
     "name": "stdout",
     "output_type": "stream",
     "text": [
      "       StationId        Date  PM2.5    PM10     NO     NO2     NOx    NH3  \\\n",
      "0          AP001  2017-11-24  71.36  115.75   1.75   20.65   12.40  12.19   \n",
      "1          AP001  2017-11-25  81.40  124.50   1.44   20.50   12.08  10.72   \n",
      "2          AP001  2017-11-26  78.32  129.06   1.26   26.00   14.85  10.28   \n",
      "3          AP001  2017-11-27  88.76  135.32   6.60   30.85   21.77  12.91   \n",
      "4          AP001  2017-11-28  64.18  104.09   2.56   28.07   17.01  11.42   \n",
      "...          ...         ...    ...     ...    ...     ...     ...    ...   \n",
      "108030     WB013  2020-06-27   8.65   16.46    NaN     NaN     NaN    NaN   \n",
      "108031     WB013  2020-06-28  11.80   18.47    NaN     NaN     NaN    NaN   \n",
      "108032     WB013  2020-06-29  18.60   32.26  13.65  200.87  214.20  11.40   \n",
      "108033     WB013  2020-06-30  16.07   39.30   7.56   29.13   36.69  29.26   \n",
      "108034     WB013  2020-07-01  10.50   36.50   7.78   22.50   30.25  27.23   \n",
      "\n",
      "          CO    SO2      O3  Benzene  Toluene  Xylene    AQI    AQI_Bucket  \n",
      "0       0.10  10.76  109.26     0.17     5.92    0.10    NaN           NaN  \n",
      "1       0.12  15.24  127.09     0.20     6.50    0.06  184.0      Moderate  \n",
      "2       0.14  26.96  117.44     0.22     7.95    0.08  197.0      Moderate  \n",
      "3       0.11  33.59  111.81     0.29     7.63    0.12  198.0      Moderate  \n",
      "4       0.09  19.00  138.18     0.17     5.02    0.07  188.0      Moderate  \n",
      "...      ...    ...     ...      ...      ...     ...    ...           ...  \n",
      "108030  0.69   4.36   30.59     1.32     7.26     NaN   50.0          Good  \n",
      "108031  0.68   3.49   38.95     1.42     7.92     NaN   65.0  Satisfactory  \n",
      "108032  0.78   5.12   38.17     3.52     8.64     NaN   63.0  Satisfactory  \n",
      "108033  0.69   5.88   29.64     1.86     8.40     NaN   57.0  Satisfactory  \n",
      "108034  0.58   2.80   13.10     1.31     7.39     NaN   59.0  Satisfactory  \n",
      "\n",
      "[108035 rows x 16 columns]\n"
     ]
    }
   ],
   "source": [
    "df_station_day=pd.read_csv(\"station_day.csv\")\n",
    "print(df_station_day)"
   ]
  },
  {
   "cell_type": "code",
   "execution_count": 4,
   "id": "3e817f94-d8cd-42cd-827b-bf54922d9699",
   "metadata": {},
   "outputs": [
    {
     "name": "stdout",
     "output_type": "stream",
     "text": [
      "        StationId             Datetime  PM2.5    PM10    NO    NO2    NOx  \\\n",
      "0           AP001  2017-11-24 17:00:00  60.50   98.00  2.35  30.80  18.25   \n",
      "1           AP001  2017-11-24 18:00:00  65.50  111.25  2.70  24.20  15.07   \n",
      "2           AP001  2017-11-24 19:00:00  80.00  132.00  2.10  25.18  15.15   \n",
      "3           AP001  2017-11-24 20:00:00  81.50  133.25  1.95  16.25  10.23   \n",
      "4           AP001  2017-11-24 21:00:00  75.25  116.00  1.43  17.48  10.43   \n",
      "...           ...                  ...    ...     ...   ...    ...    ...   \n",
      "2589078     WB013  2020-06-30 20:00:00  15.55   47.80  7.27  35.08  42.38   \n",
      "2589079     WB013  2020-06-30 21:00:00  15.23   42.30  6.10  26.78  32.85   \n",
      "2589080     WB013  2020-06-30 22:00:00  11.40   40.95  6.58  19.53  26.12   \n",
      "2589081     WB013  2020-06-30 23:00:00   9.25   34.33  9.17  21.85  31.00   \n",
      "2589082     WB013  2020-07-01 00:00:00  10.50   36.50  7.78  22.50  30.25   \n",
      "\n",
      "           NH3    CO    SO2      O3  Benzene  Toluene  Xylene   AQI  \\\n",
      "0         8.50  0.10  11.85  126.40     0.10     6.10    0.10   NaN   \n",
      "1         9.77  0.10  13.17  117.12     0.10     6.25    0.15   NaN   \n",
      "2        12.02  0.10  12.08   98.98     0.20     5.98    0.18   NaN   \n",
      "3        11.58  0.10  10.47  112.20     0.20     6.72    0.10   NaN   \n",
      "4        12.03  0.10   9.12  106.35     0.20     5.75    0.08   NaN   \n",
      "...        ...   ...    ...     ...      ...      ...     ...   ...   \n",
      "2589078  31.25  0.80   9.40   17.24     2.56    11.57     NaN  59.0   \n",
      "2589079  30.66  0.56   4.91   17.46     3.49    12.29     NaN  59.0   \n",
      "2589080  30.73  0.61   3.81   17.24     1.83     8.88     NaN  59.0   \n",
      "2589081  29.61  0.65   3.44   12.74     1.40     8.43     NaN  59.0   \n",
      "2589082  27.23  0.58   2.80   13.10     1.31     7.39     NaN  59.0   \n",
      "\n",
      "           AQI_Bucket  \n",
      "0                 NaN  \n",
      "1                 NaN  \n",
      "2                 NaN  \n",
      "3                 NaN  \n",
      "4                 NaN  \n",
      "...               ...  \n",
      "2589078  Satisfactory  \n",
      "2589079  Satisfactory  \n",
      "2589080  Satisfactory  \n",
      "2589081  Satisfactory  \n",
      "2589082  Satisfactory  \n",
      "\n",
      "[2589083 rows x 16 columns]\n"
     ]
    },
    {
     "name": "stderr",
     "output_type": "stream",
     "text": [
      "/var/folders/3f/4pfz7c6127q8vrxv3p9cshcr0000gn/T/ipykernel_87997/2420821892.py:1: DtypeWarning: Columns (15) have mixed types. Specify dtype option on import or set low_memory=False.\n",
      "  df_station_hour=pd.read_csv(\"station_hour.csv\")\n"
     ]
    }
   ],
   "source": [
    "df_station_hour=pd.read_csv(\"station_hour.csv\")\n",
    "print(df_station_hour)"
   ]
  },
  {
   "cell_type": "code",
   "execution_count": 5,
   "id": "13984c87-ffe7-4b6c-8376-a8fd14959f93",
   "metadata": {},
   "outputs": [
    {
     "name": "stdout",
     "output_type": "stream",
     "text": [
      "    StationId                                     StationName  \\\n",
      "0       AP001                  Secretariat, Amaravati - APPCB   \n",
      "1       AP002  Anand Kala Kshetram, Rajamahendravaram - APPCB   \n",
      "2       AP003                      Tirumala, Tirupati - APPCB   \n",
      "3       AP004                 PWD Grounds, Vijayawada - APPCB   \n",
      "4       AP005          GVM Corporation, Visakhapatnam - APPCB   \n",
      "..        ...                                             ...   \n",
      "225     WB010                       Jadavpur, Kolkata - WBPCB   \n",
      "226     WB011    Rabindra Bharati University, Kolkata - WBPCB   \n",
      "227     WB012               Rabindra Sarobar, Kolkata - WBPCB   \n",
      "228     WB013                       Victoria, Kolkata - WBPCB   \n",
      "229     WB014              Ward-32 Bapupara, Siliguri - WBPCB   \n",
      "\n",
      "                  City           State  Status  \n",
      "0            Amaravati  Andhra Pradesh  Active  \n",
      "1    Rajamahendravaram  Andhra Pradesh     NaN  \n",
      "2             Tirupati  Andhra Pradesh     NaN  \n",
      "3           Vijayawada  Andhra Pradesh     NaN  \n",
      "4        Visakhapatnam  Andhra Pradesh  Active  \n",
      "..                 ...             ...     ...  \n",
      "225            Kolkata     West Bengal  Active  \n",
      "226            Kolkata     West Bengal  Active  \n",
      "227            Kolkata     West Bengal  Active  \n",
      "228            Kolkata     West Bengal  Active  \n",
      "229           Siliguri     West Bengal     NaN  \n",
      "\n",
      "[230 rows x 5 columns]\n"
     ]
    }
   ],
   "source": [
    "df_stations=pd.read_csv(\"stations.csv\")\n",
    "print(df_stations)"
   ]
  },
  {
   "cell_type": "code",
   "execution_count": 22,
   "id": "8bd9e50e-2495-4c58-b5e6-42e1814eb507",
   "metadata": {},
   "outputs": [
    {
     "name": "stdout",
     "output_type": "stream",
     "text": [
      "Index(['StationId', 'Date', 'PM2.5', 'PM10', 'NO', 'NO2', 'NOx', 'NH3', 'CO',\n",
      "       'SO2', 'O3', 'Benzene', 'Toluene', 'Xylene', 'AQI', 'AQI_Bucket'],\n",
      "      dtype='object')\n",
      "Index(['StationId', 'Datetime', 'PM2.5', 'PM10', 'NO', 'NO2', 'NOx', 'NH3',\n",
      "       'CO', 'SO2', 'O3', 'Benzene', 'Toluene', 'Xylene', 'AQI', 'AQI_Bucket'],\n",
      "      dtype='object')\n",
      "Index(['StationId', 'StationName', 'City', 'State', 'Status'], dtype='object')\n"
     ]
    }
   ],
   "source": [
    "print(df_station_day.columns)\n",
    "print(df_station_hour.columns)\n",
    "print(df_stations.columns)\n"
   ]
  },
  {
   "cell_type": "code",
   "execution_count": 24,
   "id": "e3def98c-4eb5-42fe-a7ff-a50edd788ff9",
   "metadata": {},
   "outputs": [
    {
     "name": "stdout",
     "output_type": "stream",
     "text": [
      "       StationId                     StationName    AQI_Bucket\n",
      "0          AP001  Secretariat, Amaravati - APPCB           NaN\n",
      "1          AP001  Secretariat, Amaravati - APPCB      Moderate\n",
      "2          AP001  Secretariat, Amaravati - APPCB      Moderate\n",
      "3          AP001  Secretariat, Amaravati - APPCB      Moderate\n",
      "4          AP001  Secretariat, Amaravati - APPCB      Moderate\n",
      "...          ...                             ...           ...\n",
      "108030     WB013       Victoria, Kolkata - WBPCB          Good\n",
      "108031     WB013       Victoria, Kolkata - WBPCB  Satisfactory\n",
      "108032     WB013       Victoria, Kolkata - WBPCB  Satisfactory\n",
      "108033     WB013       Victoria, Kolkata - WBPCB  Satisfactory\n",
      "108034     WB013       Victoria, Kolkata - WBPCB  Satisfactory\n",
      "\n",
      "[108035 rows x 3 columns]\n"
     ]
    }
   ],
   "source": [
    "station_day_selected = df_station_day[['StationId', 'AQI_Bucket']]\n",
    "stations_selected = df_stations[['StationId', 'StationName']]\n",
    "final_df = stations_selected.merge(station_day_selected, on='StationId', how='inner')\n",
    "print(final_df)\n",
    "final_df.to_csv('station_id_name_aqi.csv', index= False)"
   ]
  },
  {
   "cell_type": "code",
   "execution_count": null,
   "id": "c1b9a373-8576-45e4-8066-697d2fa3dfcf",
   "metadata": {},
   "outputs": [],
   "source": []
  }
 ],
 "metadata": {
  "kernelspec": {
   "display_name": "Python (myenv)",
   "language": "python",
   "name": "myenv"
  },
  "language_info": {
   "codemirror_mode": {
    "name": "ipython",
    "version": 3
   },
   "file_extension": ".py",
   "mimetype": "text/x-python",
   "name": "python",
   "nbconvert_exporter": "python",
   "pygments_lexer": "ipython3",
   "version": "3.13.2"
  }
 },
 "nbformat": 4,
 "nbformat_minor": 5
}
